{
  "nbformat": 4,
  "nbformat_minor": 0,
  "metadata": {
    "colab": {
      "provenance": []
    },
    "kernelspec": {
      "name": "python3",
      "display_name": "Python 3"
    },
    "language_info": {
      "name": "python"
    }
  },
  "cells": [
    {
      "cell_type": "markdown",
      "source": [
        "# **소인수분해**"
      ],
      "metadata": {
        "id": "aiL_iLCKj8U8"
      }
    },
    {
      "cell_type": "code",
      "execution_count": null,
      "metadata": {
        "id": "psCl05Glj1Hz"
      },
      "outputs": [],
      "source": [
        "n = int(input(\"n: \"))\n",
        "\n",
        "def get_prime_factors(n):\n",
        "    prime_factors = []\n",
        "    divisor = 2\n",
        "\n",
        "    while n > 1:\n",
        "        while n % divisor == 0:\n",
        "            prime_factors.append(divisor)\n",
        "            n //= divisor\n",
        "        divisor += 1\n",
        "\n",
        "    return prime_factors\n",
        "\n",
        "def solution(factors):\n",
        "    return ' * '.join(map(str, factors))\n",
        "\n",
        "prime_factors = get_prime_factors(n)\n",
        "print(solution(prime_factors))\n"
      ]
    },
    {
      "cell_type": "markdown",
      "source": [
        "사용자로부터 정수 n을 입력받습니다."
      ],
      "metadata": {
        "id": "XQ0wtkqfkFaM"
      }
    },
    {
      "cell_type": "code",
      "source": [
        "n = int(input(\"n: \"))"
      ],
      "metadata": {
        "id": "2YmKJfUekF3g"
      },
      "execution_count": null,
      "outputs": []
    },
    {
      "cell_type": "markdown",
      "source": [
        "소인수 목록을 구하는 함수 get_prime_factors를 작성하고,\n",
        " 소인수를 저장할 빈 리스트를 초기화하고, 소인수를 찾기 시작할 초기 값으로 2를 설정합니다."
      ],
      "metadata": {
        "id": "qn96RORRkJpk"
      }
    },
    {
      "cell_type": "code",
      "source": [
        "def get_prime_factors(n):\n",
        "    prime_factors = []\n",
        "    divisor = 2"
      ],
      "metadata": {
        "id": "mq7W8kZAkJVO"
      },
      "execution_count": null,
      "outputs": []
    },
    {
      "cell_type": "markdown",
      "source": [
        "n이 1보다 큰 동안, n이 현재 divisor로 나누어 떨어지는 동안 반복하고, 나누어 떨어지면 소인수 목록에 현재 divisor를 추가하고, n을 현재 divisor로 나눕니다.\n",
        "더 이상의 현재 divisor로 n이 나누어 떨어지지 않으면, 다음 소인수를 찾기 위해 divisor를 1 증가시킵니다."
      ],
      "metadata": {
        "id": "uqFe2eoykmx_"
      }
    },
    {
      "cell_type": "code",
      "source": [
        "    while n > 1:\n",
        "        while n % divisor == 0:\n",
        "            prime_factors.append(divisor)\n",
        "            n //= divisor\n",
        "        divisor += 1"
      ],
      "metadata": {
        "id": "7Ys85W3ek7ks"
      },
      "execution_count": null,
      "outputs": []
    },
    {
      "cell_type": "markdown",
      "source": [
        "n이 1보다 작거나 같아지면 소인수 목록을 반환합니다."
      ],
      "metadata": {
        "id": "_9Y1Qz-DlNAF"
      }
    },
    {
      "cell_type": "code",
      "source": [
        "return prime_factors"
      ],
      "metadata": {
        "id": "wXtVDeaClLOf"
      },
      "execution_count": null,
      "outputs": []
    },
    {
      "cell_type": "markdown",
      "source": [
        "소인수 목록을 문자열로 변환하고 ' * '로 연결하는 solution 함수를 작성합니다."
      ],
      "metadata": {
        "id": "6Wd_WqqGlRu5"
      }
    },
    {
      "cell_type": "code",
      "source": [
        "def solution(factors):\n",
        "    return ' * '.join(map(str, factors))"
      ],
      "metadata": {
        "id": "iii8wUPLmCoO"
      },
      "execution_count": null,
      "outputs": []
    },
    {
      "cell_type": "markdown",
      "source": [
        "입력된 n의 소인수 값을 구하고 소인수 목록을 원하는 형식으로 출력합니다.\n",
        "\n",
        "여기서, prime_factors를 get_prime_factors(n)와 같다고 정의해줘야 값이 나오는 이유는, prime_factors에 get_prime_factors(n) 함수의 반환값을 저장함으로써 n의 소인수를 구할 수 있기 때문입니다. 함수의 반환값을 변수에 저장하지 않으면 그 값은 소실되므로, prime_factors에 할당하여 나중에 활용할 수 있도록 합니다."
      ],
      "metadata": {
        "id": "N_RDd84fl87K"
      }
    },
    {
      "cell_type": "code",
      "source": [
        "prime_factors = get_prime_factors(n)\n",
        "print(solution(prime_factors))"
      ],
      "metadata": {
        "id": "2qKMVAbqmFdB"
      },
      "execution_count": null,
      "outputs": []
    },
    {
      "cell_type": "markdown",
      "source": [
        "#**Circle Class 만들기**"
      ],
      "metadata": {
        "id": "DHwuGQZamh-f"
      }
    },
    {
      "cell_type": "code",
      "source": [
        "class Circle:\n",
        "    import math\n",
        "    PI = math.pi\n",
        "\n",
        "    def __init__(self, x, y, radius):\n",
        "        self.__x = x\n",
        "        self.__y = y\n",
        "        self.__radius = radius\n",
        "\n",
        "    def __str__(self):\n",
        "        return f\"원의 중심은 ({self.__x}, {self.__y}), 반지름은 {self.__radius}, 면적은 {self.area()})\"\n",
        "\n",
        "    def set_x(self, x):\n",
        "        self.__x = x\n",
        "\n",
        "\n",
        "    def get_x(self):\n",
        "        return self.__x\n",
        "\n",
        "    def set_y(self, y):\n",
        "        self.__y = y\n",
        "\n",
        "    def get_y(self):\n",
        "        return self.__y\n",
        "\n",
        "\n",
        "    def set_radius(self, radius):\n",
        "        self.__radius = radius\n",
        "\n",
        "\n",
        "    def get_radius(self):\n",
        "        return self.__radius\n",
        "\n",
        "    def area(self):\n",
        "        return Circle.PI * self.__radius ** 2\n",
        "\n",
        "    def overlaps(self, c):\n",
        "        distance = ((self.__x - c.get_x()) ** 2 + (self.__y - c.get_y()) ** 2) ** 1/2\n",
        "        return distance < (self.__radius + c.get_radius())\n",
        "\n",
        "    def contains(self, c):\n",
        "        distance = ((self.__x - c.get_x()) ** 2 + (self.__y - c.get_y()) ** 2) ** 1/2\n",
        "        return distance + c.get_radius() <= self.__radius\n",
        "\n",
        "\n",
        "circle1 = Circle(5, 5, 3)\n",
        "circle2 = Circle(5, 5, 3)\n",
        "\n",
        "print(circle1)\n",
        "print(circle2)\n",
        "\n",
        "print(\"circle1과 circle2가 겹치는가?\", circle1.overlaps(circle2))\n",
        "print(\"circle1이 circle2를 포함하는가?\", circle1.contains(circle2))\n",
        "\n",
        "\n",
        "circle1 = Circle(5, 5, 3)\n",
        "circle2 = Circle(5, 5, 3)\n",
        "\n",
        "print(circle1)\n",
        "print(circle2)\n",
        "\n",
        "print(\"circle1과 circle2가 겹치는가?\", circle1.overlaps(circle2))\n",
        "print(\"circle1이 circle2를 포함하는가?\", circle1.contains(circle2))\n"
      ],
      "metadata": {
        "id": "mWiOVI4TmooO"
      },
      "execution_count": null,
      "outputs": []
    },
    {
      "cell_type": "markdown",
      "source": [
        "외부모듈 math를 불러와서 PI 값을 설정합니다."
      ],
      "metadata": {
        "id": "vRsYVgUnn9qF"
      }
    },
    {
      "cell_type": "code",
      "source": [
        "import math\n",
        "    PI = math.pi"
      ],
      "metadata": {
        "id": "A2fX37V8oVxk"
      },
      "execution_count": null,
      "outputs": []
    },
    {
      "cell_type": "markdown",
      "source": [
        "__init__ 메소드로 초기화 메소드를 설정합니다."
      ],
      "metadata": {
        "id": "uDnnfSUtobGo"
      }
    },
    {
      "cell_type": "code",
      "source": [
        "    def __init__(self, x, y, radius):\n",
        "        self.__x = x\n",
        "        self.__y = y\n",
        "        self.__radius = radius"
      ],
      "metadata": {
        "id": "JWRjIGstogli"
      },
      "execution_count": null,
      "outputs": []
    },
    {
      "cell_type": "markdown",
      "source": [
        "__str__ 메소드로 문자열을 표현합니다. __str__ 메소드는 Python에서 객체를 문자열로 표현할 때 호출되는 특별한 메소드입니다. 이 메소드는 print() 함수로 객체를 출력하거나, str() 함수를 호출할 때 자동으로 호출됩니다."
      ],
      "metadata": {
        "id": "DG2T87UzohNj"
      }
    },
    {
      "cell_type": "code",
      "source": [
        " def __str__(self):\n",
        "        return f\"원의 중심은 ({self.__x}, {self.__y}), 반지름은 {self.__radius}, 면적은 {self.area()})\""
      ],
      "metadata": {
        "id": "tt1Ftw3go2Ba"
      },
      "execution_count": null,
      "outputs": []
    },
    {
      "cell_type": "markdown",
      "source": [
        "set과 get 메소드에 x,y,radius의 값을 각각 설정하고, 반환하게 합니다.\n",
        "\n",
        "\n"
      ],
      "metadata": {
        "id": "3lmsfjCepAyR"
      }
    },
    {
      "cell_type": "code",
      "source": [
        "def set_x(self, x):\n",
        "        self.__x = x\n",
        "\n",
        "\n",
        "    def get_x(self):\n",
        "        return self.__x\n",
        "\n",
        "    def set_y(self, y):\n",
        "        self.__y = y\n",
        "\n",
        "    def get_y(self):\n",
        "        return self.__y\n",
        "\n",
        "\n",
        "    def set_radius(self, radius):\n",
        "        self.__radius = radius\n",
        "\n",
        "\n",
        "    def get_radius(self):\n",
        "        return self.__radius"
      ],
      "metadata": {
        "id": "I1_G_JfxpKTU"
      },
      "execution_count": null,
      "outputs": []
    },
    {
      "cell_type": "markdown",
      "source": [
        "area 메소드를 통해 원의 면적을 반환하게 합니다."
      ],
      "metadata": {
        "id": "F2El-q9MpJ7q"
      }
    },
    {
      "cell_type": "code",
      "source": [
        " def area(self):\n",
        "        return Circle.PI * self.__radius ** 2"
      ],
      "metadata": {
        "id": "i4PqiMp-pkn-"
      },
      "execution_count": null,
      "outputs": []
    },
    {
      "cell_type": "markdown",
      "source": [
        "overlaps 메소드를 통해 원의 겹침 여부를 확인합니다.\n",
        "\n",
        "두 원이 겹치는 조건은 두 원의 중심 사이의 거리가 두 원의 반지름의 합보다 작을 때입니다.\n",
        "\n",
        "distance < (self.__radius + c.get_radius())의 결과가 True일 때 True를 반환하고, False일 때 False를 반환합니다."
      ],
      "metadata": {
        "id": "_L-dzoCUpk-6"
      }
    },
    {
      "cell_type": "code",
      "source": [
        "    def overlaps(self, c):\n",
        "        distance = ((self.__x - c.get_x()) ** 2 + (self.__y - c.get_y()) ** 2) ** 1/2\n",
        "        return distance < (self.__radius + c.get_radius())"
      ],
      "metadata": {
        "id": "h1-Ujx2Mp1xd"
      },
      "execution_count": null,
      "outputs": []
    },
    {
      "cell_type": "markdown",
      "source": [
        "contains 메소드를 통해 원의 포함 여부를 확인합니다.\n",
        "\n",
        "두 원의 중심 사이의 거리와 매개변수 원의 반지름의 합이 현재 원의 반지름보다 작거나 같으면 True를 반환하여 현재 원이 매개변수 원을 포함한다고 판단합니다.\n",
        "\n",
        "distance + c.get_radius() <= self.__radius의 결과가 True일 때 True를 반환하고, False일 때 False를 반환합니다."
      ],
      "metadata": {
        "id": "JUJfe1y8p2Q5"
      }
    },
    {
      "cell_type": "code",
      "source": [
        " def contains(self, c):\n",
        "        distance = ((self.__x - c.get_x()) ** 2 + (self.__y - c.get_y()) ** 2) ** 1/2\n",
        "        return distance + c.get_radius() <= self.__radius"
      ],
      "metadata": {
        "id": "VtK9EPYXqJKW"
      },
      "execution_count": null,
      "outputs": []
    },
    {
      "cell_type": "markdown",
      "source": [
        "circle 인스턴스를 생성합니다."
      ],
      "metadata": {
        "id": "PMjdpoONqMSp"
      }
    },
    {
      "cell_type": "code",
      "source": [
        "circle1 = Circle(5, 5, 3)\n",
        "circle2 = Circle(5, 5, 3)"
      ],
      "metadata": {
        "id": "B1MkdGvZqLjm"
      },
      "execution_count": null,
      "outputs": []
    },
    {
      "cell_type": "markdown",
      "source": [
        "생성한 circle 인스턴스를 출력하고, 포함,겹침 여부가 제대로 출력되는지 테스트합니다."
      ],
      "metadata": {
        "id": "UnBzJ8kaqR8T"
      }
    },
    {
      "cell_type": "code",
      "source": [
        "print(circle1)\n",
        "print(circle2)\n",
        "\n",
        "print(\"circle1과 circle2가 겹치는가?\", circle1.overlaps(circle2))\n",
        "print(\"circle1이 circle2를 포함하는가?\", circle1.contains(circle2))"
      ],
      "metadata": {
        "id": "7Xnqob63qa0l"
      },
      "execution_count": null,
      "outputs": []
    },
    {
      "cell_type": "markdown",
      "source": [
        "# **map과 filter를 사용하여 짝수 제곱으로 새로운 리스트 작성하기**"
      ],
      "metadata": {
        "id": "J08OI0VIqcUf"
      }
    },
    {
      "cell_type": "code",
      "source": [
        "numbers=[1,2,3,4,5,6,7,8,9,10]\n",
        "even_numbers=[]\n",
        "\n",
        "def square_number(x):\n",
        "  return x ** 2\n",
        "\n",
        "def even_number(x):\n",
        "  if x % 2 == 0:\n",
        "    return True\n",
        "  else:\n",
        "    return False\n",
        "\n",
        "for num in numbers:\n",
        "  if even_number(num) == True:\n",
        "    even_numbers.append(num)\n",
        "\n",
        "\n",
        "squared_numbers1 = [square_number(num) for num in list(filter(even_number,numbers))]\n",
        "squared_numbers2 = list(map(square_number,even_numbers))\n",
        "\n",
        "print(squared_numbers1)\n",
        "print(squared_numbers2)"
      ],
      "metadata": {
        "id": "4yp7ZtkWsU6x"
      },
      "execution_count": null,
      "outputs": []
    },
    {
      "cell_type": "markdown",
      "source": [
        "우선 숫자 리스트 numbers와 numbers 내 요소중 짝수만 분별하여 추가해줄\n",
        "리스트 even_numbers를 만듭니다."
      ],
      "metadata": {
        "id": "jBUFJj1Fqnes"
      }
    },
    {
      "cell_type": "code",
      "source": [
        "numbers=[1,2,3,4,5,6,7,8,9,10]\n",
        "even_numbers=[]"
      ],
      "metadata": {
        "id": "zeZy8iAiqga6"
      },
      "execution_count": null,
      "outputs": []
    },
    {
      "cell_type": "markdown",
      "source": [
        "매개변수 x를 제곱하여 반환하는 함수 square_number()를 작성합니다."
      ],
      "metadata": {
        "id": "uBiWy36Sq5b5"
      }
    },
    {
      "cell_type": "code",
      "source": [
        "def square_number(x):\n",
        "  return x ** 2"
      ],
      "metadata": {
        "id": "3sqHTbZbrEL-"
      },
      "execution_count": null,
      "outputs": []
    },
    {
      "cell_type": "markdown",
      "source": [
        "매개변수 x가 짝수인지 아닌지 판별하는 함수 even_number()를 작성합니다. 2로 나누어떨어졌을때 True를 반환하고, 그렇지 않으면 False를 반환합니다."
      ],
      "metadata": {
        "id": "5BcKcU-hrRh4"
      }
    },
    {
      "cell_type": "code",
      "source": [
        "def even_number(x):\n",
        "  if x % 2 == 0:\n",
        "    return True"
      ],
      "metadata": {
        "id": "E48_ui6frPir"
      },
      "execution_count": null,
      "outputs": []
    },
    {
      "cell_type": "markdown",
      "source": [
        "numbers 내 요소가 even_number() 함수에서 True를 반환하면, even_numbers 리스트에 추가하는 코드를 작성합니다."
      ],
      "metadata": {
        "id": "lSQ0vZ3grPMI"
      }
    },
    {
      "cell_type": "code",
      "source": [
        "for num in numbers:\n",
        "  if even_number(num) == True:\n",
        "    even_numbers.append(num)"
      ],
      "metadata": {
        "id": "LT44dMFfrYvu"
      },
      "execution_count": null,
      "outputs": []
    },
    {
      "cell_type": "markdown",
      "source": [
        "squared_numbers1은 filter 함수를 이용해 numbers 리스트 내 요소 중 even_number() 함수를 만족시키는 요소만 square_number() 함수를 이용해 제곱한 값을 리스트로 나타낸 값이고,\n",
        "\n",
        "squared_numbers2는 numbers 리스트 중 짝수만 골라서 추가한 even_numbers 리스트를 map 함수를 이용해 리스트 내 모든 요소에 square_number() 함수를 이용해 제곱한 값을 리스트로 나타낸 값입니다."
      ],
      "metadata": {
        "id": "IBlHKSXlrsTL"
      }
    },
    {
      "cell_type": "code",
      "source": [
        "squared_numbers1 = [square_number(num) for num in list(filter(even_number,numbers))]\n",
        "squared_numbers2 = list(map(square_number,even_numbers))"
      ],
      "metadata": {
        "id": "QHPNVFMdrr8Y"
      },
      "execution_count": null,
      "outputs": []
    }
  ]
}